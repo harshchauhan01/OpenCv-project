{
 "cells": [
  {
   "cell_type": "code",
   "execution_count": null,
   "id": "5ced273e",
   "metadata": {},
   "outputs": [],
   "source": [
    "# Aim Tracker\n",
    "\n",
    "import cv2\n",
    "import numpy as np\n",
    "import mediapipe as mp\n",
    "\n",
    "cap = cv2.VideoCapture(0)\n",
    "mp_face = mp.solutions.face_mesh\n",
    "mp_draw = mp.solutions.drawing_utils\n",
    "face_mesh = mp_face.FaceMesh(refine_landmarks=True)\n",
    "mp_hand = mp.solutions.hands\n",
    "hand = mp_hand.Hands(min_detection_confidence=0.9,min_tracking_confidence=0.9)\n",
    "\n",
    "\n",
    "FORHEAD_IDX = 10\n",
    "\n",
    "while cap.isOpened():\n",
    "    r,f = cap.read()\n",
    "    if r==False:\n",
    "        break\n",
    "    \n",
    "    f = cv2.flip(f,1)\n",
    "    rgb = cv2.cvtColor(f,cv2.COLOR_BGR2RGB)\n",
    "    res = face_mesh.process(rgb)\n",
    "    h,w,_ = f.shape\n",
    "    if res.multi_face_landmarks:\n",
    "        for face_marks in res.multi_face_landmarks:\n",
    "            forehead = face_marks.landmark[FORHEAD_IDX]\n",
    "            x = int(forehead.x*w)\n",
    "            y = int(forehead.y*h)\n",
    "\n",
    "            cv2.circle(f,(x,y),10,(0,0,255),3)\n",
    "            cv2.line(f,(x-20,y),(x+20,y),(0,0,255),2)\n",
    "            cv2.line(f,(x,y-20),(x,y+20),(0,0,255),2)\n",
    "\n",
    "            cv2.putText(f,f\"Target: ({x},{y})\",(x+15,y-15),cv2.FONT_HERSHEY_COMPLEX_SMALL,1,(0,255,0),1)\n",
    "\n",
    "    res1 = hand.process(rgb)\n",
    "    if res1.multi_hand_landmarks:\n",
    "        for landmarks in res1.multi_hand_landmarks:\n",
    "            mp_draw.draw_landmarks(f,landmarks,mp_hand.HAND_CONNECTIONS)\n",
    "\n",
    "    cv2.imshow(\"Aim tracker\",f)\n",
    "    if cv2.waitKey(25) & 0xff == ord('d'):\n",
    "        break\n",
    "\n",
    "cap.release()\n",
    "cv2.destroyAllWindows()"
   ]
  }
 ],
 "metadata": {
  "language_info": {
   "name": "python"
  }
 },
 "nbformat": 4,
 "nbformat_minor": 5
}
