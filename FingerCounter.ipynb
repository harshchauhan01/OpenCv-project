{
 "cells": [
  {
   "cell_type": "code",
   "execution_count": 2,
   "id": "4a7d85cd",
   "metadata": {},
   "outputs": [],
   "source": [
    "import cv2\n",
    "import mediapipe as mp\n",
    "\n",
    "cap = cv2.VideoCapture(0)\n",
    "\n",
    "mp_hands = mp.solutions.hands\n",
    "mp_drawing = mp.solutions.drawing_utils\n",
    "\n",
    "hands = mp_hands.Hands(min_detection_confidence=0.7,min_tracking_confidence=0.7)\n",
    "\n",
    "finger_tips = [8,12,16,20]\n",
    "thumb_tip = 4\n",
    "\n",
    "\n",
    "while cap.isOpened():\n",
    "    r,f = cap.read()\n",
    "    if r==False:\n",
    "        break\n",
    "    \n",
    "    f = cv2.flip(f,1)\n",
    "\n",
    "    rgb = cv2.cvtColor(f,cv2.COLOR_BGR2RGB)\n",
    "    res = hands.process(rgb)\n",
    "    finger_up = 0\n",
    "    if res.multi_hand_landmarks:\n",
    "        for hand_landmarks in res.multi_hand_landmarks:\n",
    "            mp_drawing.draw_landmarks(f,hand_landmarks,mp_hands.HAND_CONNECTIONS)\n",
    "\n",
    "            lm = hand_landmarks.landmark\n",
    "\n",
    "            if lm[thumb_tip].x < lm[thumb_tip-1].x:\n",
    "                finger_up+=1\n",
    "\n",
    "            for tip in finger_tips:\n",
    "                if lm[tip].y < lm[tip-2].y:\n",
    "                    finger_up+=1\n",
    "    cv2.putText(f,f'Finger: {finger_up}',(10,50),cv2.FONT_HERSHEY_COMPLEX,1.5,(0,255,0),3)\n",
    "\n",
    "    cv2.imshow(\"Video Frame\",f)\n",
    "\n",
    "    if cv2.waitKey(25) & 0xff == ord('d'):\n",
    "        break\n",
    "    \n",
    "\n",
    "cap.release()\n",
    "cv2.destroyAllWindows()"
   ]
  }
 ],
 "metadata": {
  "kernelspec": {
   "display_name": "Python 3",
   "language": "python",
   "name": "python3"
  },
  "language_info": {
   "codemirror_mode": {
    "name": "ipython",
    "version": 3
   },
   "file_extension": ".py",
   "mimetype": "text/x-python",
   "name": "python",
   "nbconvert_exporter": "python",
   "pygments_lexer": "ipython3",
   "version": "3.11.9"
  }
 },
 "nbformat": 4,
 "nbformat_minor": 5
}
